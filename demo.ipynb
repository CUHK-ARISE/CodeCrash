{
 "cells": [
  {
   "cell_type": "markdown",
   "id": "2f2dfce2",
   "metadata": {},
   "source": [
    "### Import Packages"
   ]
  },
  {
   "cell_type": "code",
   "execution_count": null,
   "id": "274b7776",
   "metadata": {},
   "outputs": [],
   "source": [
    "from llm import OpenAIChat, DeepInfraChat, QwenChat\n",
    "from loader import Crux, LiveCodeBench\n",
    "from runner.runner import Runner"
   ]
  },
  {
   "cell_type": "markdown",
   "id": "a9a6efd6",
   "metadata": {},
   "source": [
    "### Load Datasets"
   ]
  },
  {
   "cell_type": "code",
   "execution_count": null,
   "id": "448fcae2",
   "metadata": {},
   "outputs": [],
   "source": [
    "crux_all_output = Crux.load_perturb(\"ALL\", \"output\")\n",
    "crux_mhc_input = Crux.load_perturb(\"MHC\", \"input\")\n",
    "lcb_van_output = LiveCodeBench.load_perturb(\"VAN\")"
   ]
  },
  {
   "cell_type": "markdown",
   "id": "d77024bd",
   "metadata": {},
   "source": [
    "### Load Models (API)"
   ]
  },
  {
   "cell_type": "code",
   "execution_count": null,
   "id": "3b106a5a",
   "metadata": {},
   "outputs": [],
   "source": [
    "temperature = 0.2\n",
    "max_tokens = 2000\n",
    "timeout = 300\n",
    "\n",
    "gpt_4o = OpenAIChat(\"gpt-4o-mini\", folder_name=\"GPT-4o\", temperature=temperature, max_tokens=max_tokens, timeout=timeout)\n",
    "llama31_70b = DeepInfraChat(\"meta-llama/Meta-Llama-3.1-70B-Instruct\", folder_name=\"LLaMA-3.1-70B-Instruct\", temperature=temperature, max_tokens=max_tokens, timeout=timeout)\n",
    "deepseek_v3 = DeepInfraChat(\"deepseek-ai/DeepSeek-V3\", folder_name=\"DeepSeek-V3\", temperature=temperature, max_tokens=max_tokens, timeout=timeout)\n",
    "deepseek_r1 = DeepInfraChat(\"deepseek-ai/DeepSeek-R1\", folder_name=\"DeepSeek-R1\", temperature=temperature, timeout=timeout, stream=True)\n",
    "qwq = QwenChat(\"qwq-32b\", folder_name = \"QwQ-32B\", temperature=temperature, max_tokens=50000, timeout=timeout, stream=True, reasoning=True)\n"
   ]
  },
  {
   "cell_type": "markdown",
   "id": "f1a29ef3",
   "metadata": {},
   "source": [
    "### Setup Runner Server"
   ]
  },
  {
   "cell_type": "code",
   "execution_count": null,
   "id": "211cec38",
   "metadata": {},
   "outputs": [],
   "source": [
    "runner = Runner(crux_all_output, gpt_4o)\n",
    "runner.run(\"crux_ALL_output_direct\", max_workers=10, n=2, mode=\"output\", cot=False)\n",
    "\n",
    "runner = Runner(crux_mhc_input, gpt_4o)\n",
    "runner.run(\"crux_MHC_input_cot\", max_workers=10, n=1, mode=\"input\", cot=True)\n",
    "\n",
    "runner = Runner(lcb_van_output, gpt_4o)\n",
    "runner.run(\"lcb_VAN_output_direct\", max_workers=10, n=2, mode=\"output\", cot=False)"
   ]
  }
 ],
 "metadata": {
  "kernelspec": {
   "display_name": "treat-robust",
   "language": "python",
   "name": "python3"
  },
  "language_info": {
   "codemirror_mode": {
    "name": "ipython",
    "version": 3
   },
   "file_extension": ".py",
   "mimetype": "text/x-python",
   "name": "python",
   "nbconvert_exporter": "python",
   "pygments_lexer": "ipython3",
   "version": "3.12.8"
  }
 },
 "nbformat": 4,
 "nbformat_minor": 5
}
